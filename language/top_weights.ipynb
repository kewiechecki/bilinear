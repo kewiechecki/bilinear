{
 "cells": [
  {
   "cell_type": "code",
   "execution_count": null,
   "metadata": {},
   "outputs": [],
   "source": [
    "# %%\n",
    "%load_ext autoreload\n",
    "%autoreload 2\n",
    "\n",
    "import torch\n",
    "import pandas as pd\n",
    "from einops import *\n",
    "\n",
    "from language import Transformer\n",
    "\n",
    "# Disable gradients and use half precision to speed up the analysis\n",
    "torch.set_grad_enabled(False)\n",
    "model = Transformer.from_pretrained(d_model=1024, n_layer=1, modifier=\"i5\").cuda().half()\n",
    "vocab = model.vocab"
   ]
  },
  {
   "cell_type": "markdown",
   "metadata": {},
   "source": [
    "#### Computation of the diagonal of the path through the MLP and residual\n",
    "Find the highest weights corresponding to preceding and following tokens of \"girl\"\n",
    "\n",
    "*Recreation of Table 1 from the paper*"
   ]
  },
  {
   "cell_type": "code",
   "execution_count": null,
   "metadata": {},
   "outputs": [],
   "source": [
    "diag = model.ube.diagonal(residual=True)\n",
    "\n",
    "K = 10\n",
    "token = \"girl\"\n",
    "idx = vocab[token]\n",
    "\n",
    "preceding = vocab[torch.topk(diag[idx], k=K).indices]\n",
    "following = vocab[torch.topk(diag[:, idx], k=K).indices]\n",
    "\n",
    "pd.DataFrame(dict(preceding=preceding, self=[token]*K, following=following))"
   ]
  },
  {
   "cell_type": "markdown",
   "metadata": {},
   "source": [
    "#### We can also look at the top weights in general\n",
    "*(Approximate) recreation of Table 6 from the paper*"
   ]
  },
  {
   "cell_type": "code",
   "execution_count": null,
   "metadata": {},
   "outputs": [],
   "source": [
    "vocab.label_top_weights(diag.T, axes=[\"input\", \"output\"], k=10)"
   ]
  },
  {
   "cell_type": "markdown",
   "metadata": {},
   "source": [
    "#### Given an interaction matrix, we can also study the eigenvalues"
   ]
  },
  {
   "cell_type": "code",
   "execution_count": null,
   "metadata": {},
   "outputs": [],
   "source": [
    "K = 10\n",
    "idx = vocab[\"game\"]\n",
    "\n",
    "inter = model.ube.interaction(idx, residual=True).cpu().float()\n",
    "vals, vecs = torch.linalg.eigh(inter)\n",
    "\n",
    "df = pd.DataFrame()\n",
    "for i in range(1, 6):\n",
    "    df[f\"comp-{i}\"] = vocab[torch.topk(vecs[:, -i], k=K, largest=False).indices]\n",
    "df"
   ]
  },
  {
   "cell_type": "code",
   "execution_count": null,
   "metadata": {},
   "outputs": [],
   "source": []
  }
 ],
 "metadata": {
  "kernelspec": {
   "display_name": "Python 3",
   "language": "python",
   "name": "python3"
  },
  "language_info": {
   "codemirror_mode": {
    "name": "ipython",
    "version": 3
   },
   "file_extension": ".py",
   "mimetype": "text/x-python",
   "name": "python",
   "nbconvert_exporter": "python",
   "pygments_lexer": "ipython3",
   "version": "3.11.4"
  }
 },
 "nbformat": 4,
 "nbformat_minor": 2
}
