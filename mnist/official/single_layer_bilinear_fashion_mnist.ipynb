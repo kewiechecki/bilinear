{
  "cells": [
    {
      "cell_type": "markdown",
      "metadata": {
        "id": "SXcc1YQoUXoC"
      },
      "source": [
        "# Fashion-MNIST | Single Layer Bilinear Model\n",
        "This notebook trains the model and generates the figures for the paper \"Weight-based Decomposition: A Case for Bilinear MLPs\""
      ]
    },
    {
      "cell_type": "markdown",
      "metadata": {
        "id": "AMwuV3PaAtGB"
      },
      "source": [
        "# Setup"
      ]
    },
    {
      "cell_type": "code",
      "execution_count": null,
      "metadata": {
        "id": "PrTGmVoTE2VG"
      },
      "outputs": [],
      "source": [
        "%load_ext autoreload\n",
        "%autoreload 2"
      ]
    },
    {
      "cell_type": "code",
      "execution_count": null,
      "metadata": {
        "colab": {
          "base_uri": "https://localhost:8080/"
        },
        "id": "SjtmA8N8DTwI",
        "outputId": "6e7ca8d9-2a57-41fd-80a2-586d8ecca871"
      },
      "outputs": [],
      "source": [
        "!pip install einops\n",
        "!pip install jaxtyping\n",
        "!git clone https://github.com/tdooms/bilinear-interp.git\n",
        "# !pip install git+https://github.com/2020leon/rpca.git\n"
      ]
    },
    {
      "cell_type": "code",
      "execution_count": null,
      "metadata": {
        "colab": {
          "base_uri": "https://localhost:8080/"
        },
        "id": "w8XjarZTDd6q",
        "outputId": "e2b59a44-21e1-41ba-cf57-06c0c7f2fa85"
      },
      "outputs": [],
      "source": [
        "%cd /content/bilinear-interp"
      ]
    },
    {
      "cell_type": "code",
      "execution_count": null,
      "metadata": {
        "id": "HHNi-SI0GShV"
      },
      "outputs": [],
      "source": [
        "# !git pull"
      ]
    },
    {
      "cell_type": "code",
      "execution_count": null,
      "metadata": {
        "id": "WMi-KWrPDq10"
      },
      "outputs": [],
      "source": [
        "import torch\n",
        "import torch.nn as nn\n",
        "import torchvision\n",
        "import torchvision.transforms as transforms\n",
        "import matplotlib.pyplot as plt\n",
        "import numpy as np\n",
        "import pandas as pd\n",
        "import plotly.express as px\n",
        "import itertools\n",
        "import einops\n",
        "from collections import defaultdict\n",
        "\n",
        "from mnist.model import *\n",
        "from mnist.utils import *\n",
        "from mnist.plotting import *\n",
        "\n",
        "device = torch.device(\"cuda:0\" if torch.cuda.is_available() else \"cpu\")"
      ]
    },
    {
      "cell_type": "markdown",
      "metadata": {
        "id": "ZiLi8oaKE7k3"
      },
      "source": [
        "# Load Data"
      ]
    },
    {
      "cell_type": "code",
      "execution_count": null,
      "metadata": {
        "id": "6rulD034sImA"
      },
      "outputs": [],
      "source": [
        "# Import Fashion MNIST dataset\n",
        "train_dataset = torchvision.datasets.FashionMNIST(root='./data',\n",
        "                                           train=True,\n",
        "                                           transform=transforms.ToTensor(),\n",
        "                                           download=True)\n",
        "\n",
        "test_dataset = torchvision.datasets.FashionMNIST(root='./data',\n",
        "                                          train=False,\n",
        "                                          transform=transforms.ToTensor())"
      ]
    },
    {
      "cell_type": "code",
      "execution_count": null,
      "metadata": {
        "id": "VYnbDIMo0W6M"
      },
      "outputs": [],
      "source": [
        "# Data loader\n",
        "batch_size = 100\n",
        "train_loader = torch.utils.data.DataLoader(dataset=train_dataset,\n",
        "                                           batch_size=batch_size,\n",
        "                                           shuffle=True)\n",
        "\n",
        "test_loader = torch.utils.data.DataLoader(dataset=test_dataset,\n",
        "                                          batch_size=batch_size,\n",
        "                                          shuffle=False)\n",
        "\n",
        "DATA_CLASSES = ['T-shirt/Top', 'Trouser', 'Pullover', 'Dress', 'Coat', 'Sandal', 'Shirt', 'Sneaker', 'Bag', 'Ankle boot']"
      ]
    },
    {
      "cell_type": "code",
      "execution_count": null,
      "metadata": {
        "colab": {
          "base_uri": "https://localhost:8080/"
        },
        "id": "ycAsxmrG0ala",
        "outputId": "39631d0d-673b-4066-a2fe-a305715d99af"
      },
      "outputs": [],
      "source": [
        "examples = iter(test_loader)\n",
        "example_data, example_targets = next(examples)\n",
        "\n",
        "for label in range(10):\n",
        "    plt.figure()\n",
        "    mask = example_targets == label\n",
        "    data = example_data[mask]\n",
        "    num = min(data.shape[0],10)\n",
        "    for i in range(num):\n",
        "        plt.subplot(2,5,i+1)\n",
        "        plt.imshow(data[i][0], cmap='binary')\n",
        "    plt.suptitle(f'{label}: {DATA_CLASSES[label]}')\n",
        "    plt.show()"
      ]
    },
    {
      "cell_type": "markdown",
      "metadata": {
        "id": "MXx-e3J-FTpW"
      },
      "source": [
        "# Train Model"
      ]
    },
    {
      "cell_type": "code",
      "execution_count": null,
      "metadata": {
        "colab": {
          "base_uri": "https://localhost:8080/"
        },
        "id": "8SFTwrZOICPi",
        "outputId": "2494a50f-3239-44af-f278-d29ff0185fc9"
      },
      "outputs": [],
      "source": [
        "cfg = MnistConfig()\n",
        "cfg.random_seed = 0\n",
        "cfg.n_layers = 1\n",
        "cfg.hidden_dim = 300\n",
        "cfg.num_epochs = 2 + 10 + 40\n",
        "cfg.lr = 0.001\n",
        "cfg.lr_decay = 0.5\n",
        "cfg.lr_decay_step = 2\n",
        "cfg.weight_decay = 1\n",
        "cfg.rms_norm = False\n",
        "cfg.bias = False\n",
        "cfg.noise_sparse = 0\n",
        "cfg.noise_dense = 0.33\n",
        "cfg.layer_noise = 0.33\n",
        "\n",
        "model = MnistModel(cfg).to(device)\n",
        "\n",
        "optimizer = torch.optim.AdamW(model.parameters(), lr=cfg.lr, weight_decay=cfg.weight_decay)\n",
        "linearLR = torch.optim.lr_scheduler.LinearLR(optimizer, start_factor=0.01, end_factor=1, total_iters = 2)\n",
        "stepLR = torch.optim.lr_scheduler.StepLR(optimizer, step_size=cfg.lr_decay_step, gamma=cfg.lr_decay)\n",
        "constLR = torch.optim.lr_scheduler.ConstantLR(optimizer, factor = cfg.lr_decay**(10/cfg.lr_decay_step), total_iters = 1000)\n",
        "scheduler = torch.optim.lr_scheduler.SequentialLR(optimizer, schedulers=[linearLR, stepLR, constLR], milestones=[2, 13])\n",
        "\n",
        "model.train(train_loader, test_loader, optimizer = optimizer, scheduler = scheduler)"
      ]
    },
    {
      "cell_type": "code",
      "execution_count": null,
      "metadata": {
        "id": "aR4M4Pde1ZSo"
      },
      "outputs": [],
      "source": []
    },
    {
      "cell_type": "markdown",
      "metadata": {
        "id": "OTZEpXJd99X-"
      },
      "source": [
        "## Save model"
      ]
    },
    {
      "cell_type": "code",
      "execution_count": null,
      "metadata": {
        "colab": {
          "base_uri": "https://localhost:8080/"
        },
        "id": "4adypCMu-yDw",
        "outputId": "e0675a78-9ff4-4cfa-cf48-9c41ceeb78e2"
      },
      "outputs": [],
      "source": [
        "from google.colab import drive\n",
        "drive.mount('/content/drive')\n",
        "import pickle"
      ]
    },
    {
      "cell_type": "code",
      "execution_count": null,
      "metadata": {
        "id": "S6CahENL-ANk"
      },
      "outputs": [],
      "source": [
        "filename = '/content/drive/MyDrive/AI Alignment/Codebooks_In_Superposition/deep_bilinear_model_with_biases_(test).pkl'\n",
        "with open(filename, 'wb') as f:\n",
        "  pickle.dump(model, f)"
      ]
    },
    {
      "cell_type": "markdown",
      "metadata": {
        "id": "fIy4541d-CVe"
      },
      "source": [
        "## Load model"
      ]
    },
    {
      "cell_type": "code",
      "execution_count": null,
      "metadata": {
        "colab": {
          "base_uri": "https://localhost:8080/"
        },
        "id": "xgj7n0f9I1jQ",
        "outputId": "0024dabf-7d86-4016-d2bb-5843f1c2f7f7"
      },
      "outputs": [],
      "source": [
        "from google.colab import drive\n",
        "drive.mount('/content/drive')\n",
        "import pickle"
      ]
    },
    {
      "cell_type": "code",
      "execution_count": null,
      "metadata": {
        "id": "ttG7musc-FDq"
      },
      "outputs": [],
      "source": [
        "filename = '/content/drive/MyDrive/AI Alignment/Codebooks_In_Superposition/deep_bilinear_model_with_biases_(test).pkl'\n",
        "with open(filename, 'rb') as f:\n",
        "  model = pickle.load(f)"
      ]
    },
    {
      "cell_type": "markdown",
      "metadata": {
        "id": "CMDtQg-drTSM"
      },
      "source": [
        "# Eigendecomposition"
      ]
    },
    {
      "cell_type": "code",
      "execution_count": null,
      "metadata": {
        "id": "8Zw93PHlrjwz"
      },
      "outputs": [],
      "source": [
        "W = model.layers[0].linear1.weight.to(\"cpu\").detach()\n",
        "V = model.layers[0].linear2.weight.to(\"cpu\").detach()\n",
        "W_out = model.linear_out.weight.to(\"cpu\").detach()\n",
        "W_in = model.linear_in.weight.to(\"cpu\").detach()\n",
        "B = get_B_tensor(W, V)\n",
        "B = einops.rearrange(B, \"out (in1 in2) -> out in1 in2\", in1 = model.cfg.d_hidden)\n",
        "\n",
        "B_proj = einops.einsum(W_out, B, \"class h2, h2 in1 in2-> class in1 in2\")"
      ]
    },
    {
      "cell_type": "code",
      "execution_count": null,
      "metadata": {
        "colab": {
          "base_uri": "https://localhost:8080/",
          "height": 1000
        },
        "id": "8WQumEG_YjTB",
        "outputId": "41514ccc-0333-4879-b3ee-13cdec1b731b"
      },
      "outputs": [],
      "source": [
        "logits = torch.eye(B_proj.shape[0], B_proj.shape[0])\n",
        "eig_plotter = EigenvectorPlotter(B_proj, logits, dataset=train_dataset, Embed = W_in)\n",
        "\n",
        "for i in range(10):\n",
        "    eig_plotter.plot_component(i, suptitle=f\"Class: {DATA_CLASSES[i]}\", vmax=0.25, classes = DATA_CLASSES, topk_eigs = 3, sort='eigs')\n",
        "# plt.tight_layout()"
      ]
    },
    {
      "cell_type": "code",
      "execution_count": null,
      "metadata": {
        "colab": {
          "base_uri": "https://localhost:8080/",
          "height": 1000
        },
        "id": "ufL3dKn5iwbp",
        "outputId": "b98fb93f-75ec-4fb0-dc36-977b3a9543bc"
      },
      "outputs": [],
      "source": [
        "file_pre = f'/content/drive/MyDrive/AI Safety/Bilinear Features/Noise Regulation/fmnist_noise_reg_weight_decay_and_noise_class_'\n",
        "logits = torch.eye(B_proj.shape[0], B_proj.shape[0])\n",
        "eig_plotter = EigenvectorPlotter(B_proj, logits, dataset=train_dataset, Embed = W_in)\n",
        "\n",
        "for i in range(10):\n",
        "    eig_plotter.plot_component(i, suptitle=f\"Class: {DATA_CLASSES[i]}\", vmax=0.25, classes = DATA_CLASSES,\n",
        "                               topk_eigs = 3, sort='eigs',\n",
        "                               filename = file_pre+str(i)+'.png')\n"
      ]
    }
  ],
  "metadata": {
    "accelerator": "GPU",
    "colab": {
      "collapsed_sections": [
        "ZiLi8oaKE7k3",
        "OTZEpXJd99X-",
        "fIy4541d-CVe",
        "INnbotPdmUHe",
        "tw2pM1y5D5Qc"
      ],
      "gpuType": "T4",
      "provenance": [],
      "toc_visible": true
    },
    "kernelspec": {
      "display_name": "Python 3",
      "name": "python3"
    },
    "language_info": {
      "name": "python"
    }
  },
  "nbformat": 4,
  "nbformat_minor": 0
}
