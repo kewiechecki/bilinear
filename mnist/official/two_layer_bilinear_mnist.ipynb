{
  "cells": [
    {
      "cell_type": "markdown",
      "metadata": {
        "id": "y5YuTWmnGBSN"
      },
      "source": [
        "# MNIST | Two Layer Bilinear Model\n",
        "This notebook trains the model and generates the figures for the paper \"Weight-based Decomposition: A Case for Bilinear MLPs\""
      ]
    },
    {
      "cell_type": "markdown",
      "metadata": {
        "id": "AMwuV3PaAtGB"
      },
      "source": [
        "# Setup"
      ]
    },
    {
      "cell_type": "code",
      "execution_count": null,
      "metadata": {
        "id": "PrTGmVoTE2VG"
      },
      "outputs": [],
      "source": [
        "%load_ext autoreload\n",
        "%autoreload 2"
      ]
    },
    {
      "cell_type": "code",
      "execution_count": null,
      "metadata": {
        "colab": {
          "base_uri": "https://localhost:8080/"
        },
        "id": "SjtmA8N8DTwI",
        "outputId": "c9799167-47f9-439c-d5db-895b40a4a817"
      },
      "outputs": [],
      "source": [
        "!pip install einops\n",
        "!pip install jaxtyping\n",
        "!git clone https://github.com/tdooms/bilinear-interp.git"
      ]
    },
    {
      "cell_type": "code",
      "execution_count": null,
      "metadata": {
        "colab": {
          "base_uri": "https://localhost:8080/"
        },
        "id": "w8XjarZTDd6q",
        "outputId": "ebad4ebe-187c-431b-d4d1-b9d649dcd2c6"
      },
      "outputs": [],
      "source": [
        "%cd /content/bilinear-interp"
      ]
    },
    {
      "cell_type": "code",
      "execution_count": null,
      "metadata": {
        "id": "HHNi-SI0GShV"
      },
      "outputs": [],
      "source": [
        "# !git pull"
      ]
    },
    {
      "cell_type": "code",
      "execution_count": null,
      "metadata": {
        "id": "WMi-KWrPDq10"
      },
      "outputs": [],
      "source": [
        "import torch\n",
        "import torch.nn as nn\n",
        "import torchvision\n",
        "import torchvision.transforms as transforms\n",
        "import matplotlib.pyplot as plt\n",
        "import numpy as np\n",
        "import pandas as pd\n",
        "import plotly.express as px\n",
        "import itertools\n",
        "import einops\n",
        "from collections import defaultdict\n",
        "\n",
        "from mnist.model import *\n",
        "from mnist.utils import *\n",
        "from mnist.plotting import *\n",
        "\n",
        "device = torch.device(\"cuda:0\" if torch.cuda.is_available() else \"cpu\")"
      ]
    },
    {
      "cell_type": "markdown",
      "metadata": {
        "id": "ZiLi8oaKE7k3"
      },
      "source": [
        "# Load Data"
      ]
    },
    {
      "cell_type": "code",
      "execution_count": null,
      "metadata": {
        "colab": {
          "base_uri": "https://localhost:8080/"
        },
        "id": "6rulD034sImA",
        "outputId": "dc5e98f3-c7c3-4fa7-ce78-79250794a665"
      },
      "outputs": [],
      "source": [
        "# Import MNIST dataset\n",
        "train_dataset = torchvision.datasets.MNIST(root='./data',\n",
        "                                           train=True,\n",
        "                                           transform=transforms.ToTensor(),\n",
        "                                           download=True)\n",
        "\n",
        "test_dataset = torchvision.datasets.MNIST(root='./data',\n",
        "                                          train=False,\n",
        "                                          transform=transforms.ToTensor())"
      ]
    },
    {
      "cell_type": "code",
      "execution_count": null,
      "metadata": {
        "id": "VYnbDIMo0W6M"
      },
      "outputs": [],
      "source": [
        "# Data loader\n",
        "batch_size = 100\n",
        "train_loader = torch.utils.data.DataLoader(dataset=train_dataset,\n",
        "                                           batch_size=batch_size,\n",
        "                                           shuffle=True)\n",
        "\n",
        "test_loader = torch.utils.data.DataLoader(dataset=test_dataset,\n",
        "                                          batch_size=batch_size,\n",
        "                                          shuffle=False)\n"
      ]
    },
    {
      "cell_type": "code",
      "execution_count": null,
      "metadata": {
        "colab": {
          "base_uri": "https://localhost:8080/"
        },
        "id": "ycAsxmrG0ala",
        "outputId": "dc44c547-81e3-46e1-9c46-dbb28f80cef7"
      },
      "outputs": [],
      "source": [
        "examples = iter(test_loader)\n",
        "example_data, example_targets = next(examples)\n",
        "\n",
        "for i in range(6):\n",
        "    plt.subplot(2,3,i+1)\n",
        "    plt.imshow(example_data[i][0], cmap='binary')\n",
        "plt.show()"
      ]
    },
    {
      "cell_type": "markdown",
      "metadata": {
        "id": "MXx-e3J-FTpW"
      },
      "source": [
        "# Train Model"
      ]
    },
    {
      "cell_type": "code",
      "execution_count": null,
      "metadata": {
        "colab": {
          "base_uri": "https://localhost:8080/"
        },
        "id": "8SFTwrZOICPi",
        "outputId": "6e2e5e9c-cf02-4304-a50a-23f61e5afa40"
      },
      "outputs": [],
      "source": [
        "cfg = MnistConfig()\n",
        "cfg.random_seed = 0\n",
        "cfg.n_layers = 2\n",
        "cfg.d_hidden = 300\n",
        "cfg.num_epochs = 2 + 12 + 50\n",
        "cfg.lr = 0.001\n",
        "cfg.lr_decay =0.5\n",
        "cfg.lr_decay_step = 2\n",
        "cfg.weight_decay = 0.5\n",
        "cfg.rms_norm = False\n",
        "cfg.bias = False\n",
        "cfg.noise_sparse = 0\n",
        "cfg.noise_dense = 0.33\n",
        "cfg.layer_noise = 0.33\n",
        "cfg.logit_bias = False\n",
        "\n",
        "model = MnistModel(cfg).to(\"cuda\")\n",
        "\n",
        "optimizer = torch.optim.AdamW(model.parameters(), lr=cfg.lr, weight_decay=cfg.weight_decay)\n",
        "linearLR = torch.optim.lr_scheduler.LinearLR(optimizer, start_factor=0.01, end_factor=1, total_iters = 2)\n",
        "stepLR = torch.optim.lr_scheduler.StepLR(optimizer, step_size=cfg.lr_decay_step, gamma=cfg.lr_decay)\n",
        "constLR = torch.optim.lr_scheduler.ConstantLR(optimizer, factor = cfg.lr_decay**(12/cfg.lr_decay_step), total_iters = 1000)\n",
        "scheduler = torch.optim.lr_scheduler.SequentialLR(optimizer, schedulers=[linearLR, stepLR, constLR], milestones=[2, 15])\n",
        "\n",
        "model.train(train_loader, test_loader, optimizer = optimizer, scheduler = scheduler)"
      ]
    },
    {
      "cell_type": "code",
      "execution_count": null,
      "metadata": {
        "id": "aR4M4Pde1ZSo"
      },
      "outputs": [],
      "source": []
    },
    {
      "cell_type": "markdown",
      "metadata": {
        "id": "OTZEpXJd99X-"
      },
      "source": [
        "## Save model"
      ]
    },
    {
      "cell_type": "code",
      "execution_count": null,
      "metadata": {
        "colab": {
          "base_uri": "https://localhost:8080/"
        },
        "id": "4adypCMu-yDw",
        "outputId": "0e5c03dd-9758-4caa-c6f5-bfdfa7dfaa62"
      },
      "outputs": [],
      "source": [
        "from google.colab import drive\n",
        "drive.mount('/content/drive')\n",
        "import pickle"
      ]
    },
    {
      "cell_type": "code",
      "execution_count": null,
      "metadata": {
        "id": "S6CahENL-ANk"
      },
      "outputs": [],
      "source": [
        "filename = '/content/drive/MyDrive/AI Safety/Bilinear Features/two_layer_mnist_20240523.pkl'\n",
        "with open(filename, 'wb') as f:\n",
        "  torch.save(model, f)"
      ]
    },
    {
      "cell_type": "markdown",
      "metadata": {
        "id": "fIy4541d-CVe"
      },
      "source": [
        "## Load model"
      ]
    },
    {
      "cell_type": "code",
      "execution_count": null,
      "metadata": {
        "colab": {
          "base_uri": "https://localhost:8080/"
        },
        "id": "xgj7n0f9I1jQ",
        "outputId": "c39fc5f0-10e2-4e82-daf1-e11939c7ef2c"
      },
      "outputs": [],
      "source": [
        "from google.colab import drive\n",
        "drive.mount('/content/drive')\n",
        "import pickle"
      ]
    },
    {
      "cell_type": "code",
      "execution_count": null,
      "metadata": {
        "id": "ttG7musc-FDq"
      },
      "outputs": [],
      "source": [
        "filename = '/content/drive/MyDrive/AI Safety/Bilinear Features/two_layer_mnist_20240523.pkl'\n",
        "with open(filename, 'rb') as f:\n",
        "  model = torch.load(f)"
      ]
    },
    {
      "cell_type": "code",
      "execution_count": null,
      "metadata": {
        "id": "OTkOOQrZXLxq"
      },
      "outputs": [],
      "source": []
    },
    {
      "cell_type": "markdown",
      "metadata": {
        "id": "CMDtQg-drTSM"
      },
      "source": [
        "# Eigen-decomposition\n",
        "\n",
        "* For simple single layer model, we know the output directions from the weights of the linear readout layer.\n",
        "* Low dim space. Only 10 directions for 10 digits.\n",
        "* $W^\\text{out}_{da} B_{ajk}$\n"
      ]
    },
    {
      "cell_type": "code",
      "execution_count": null,
      "metadata": {
        "id": "8Zw93PHlrjwz"
      },
      "outputs": [],
      "source": [
        "W1 = model.layers[1].linear1.weight.to(\"cpu\").detach()\n",
        "V1 = model.layers[1].linear2.weight.to(\"cpu\").detach()\n",
        "W0 = model.layers[0].linear1.weight.to(\"cpu\").detach()\n",
        "V0 = model.layers[0].linear2.weight.to(\"cpu\").detach()\n",
        "\n",
        "W_out = model.linear_out.weight.to(\"cpu\").detach()\n",
        "W_in = model.linear_in.weight.to(\"cpu\").detach()\n",
        "\n",
        "B1 = einops.einsum(W_out, W1, V1, \"class h, h in1, h in2 -> class in1 in2\")\n",
        "B_proj1 = 0.5 * B1 + 0.5 * B1.transpose(-2,-1)"
      ]
    },
    {
      "cell_type": "code",
      "execution_count": null,
      "metadata": {
        "colab": {
          "base_uri": "https://localhost:8080/",
          "height": 350
        },
        "id": "JQjCEdSK0uW0",
        "outputId": "ce9e0840-fd50-4f3b-8bc5-7157b5f97e68"
      },
      "outputs": [],
      "source": [
        "class_idx = 9\n",
        "Q = B_proj1[class_idx]\n",
        "eigvals1, eigvecs1 = torch.linalg.eigh(Q)\n",
        "\n",
        "plt.figure(figsize=(4,3))\n",
        "plt.plot(eigvals1,'.-', markersize=7)\n",
        "plt.ylabel('Eigenvalue')\n",
        "plt.xlabel('Rank')\n",
        "plt.title(f'Layer 2 Eigenvalues for \"{class_idx}\"')"
      ]
    },
    {
      "cell_type": "code",
      "execution_count": null,
      "metadata": {
        "colab": {
          "base_uri": "https://localhost:8080/",
          "height": 1000
        },
        "id": "6IykjXxj1F_N",
        "outputId": "d71b5f6f-d2dc-4065-cb87-69dcd8991037"
      },
      "outputs": [],
      "source": [
        "eig_idxs = [-1, -2, 0, 1]\n",
        "flip_signs = [-1, 1, -1, 1]\n",
        "\n",
        "B0 = einops.einsum(eigvecs1[:,eig_idxs], W0, V0, \"h eig, h in1, h in2 -> eig in1 in2\")\n",
        "B_proj0 = 0.5 * B0 + 0.5 * B0.transpose(-2,-1)\n",
        "B_proj0 = torch.tensor(flip_signs).view(-1,1,1) * B_proj0\n",
        "\n",
        "input = eigvecs1[:,eig_idxs].T.to(model.cfg.device)\n",
        "# x = model.layers[1](input + 0.33 * input.std() * torch.randn_like(input))\n",
        "# logits = model.linear_out(x + 0.33 * x.std() * torch.randn_like(x)).cpu().detach()\n",
        "logits = model.linear_out(model.layers[1](input))\n",
        "logits = logits.cpu().detach()\n",
        "\n",
        "eig_plotter = EigenvectorPlotter(B_proj0, logits, dataset=train_dataset, Embed = W_in)\n",
        "\n",
        "for i in range(B_proj0.shape[0]):\n",
        "    eig_plotter.plot_component(i, suptitle=f\"Layer-2 Eig Rank: {eig_idxs[i]}\", vmax=0.25,\n",
        "                               classes = range(10), topk_eigs = 4, sort='eigs')"
      ]
    },
    {
      "cell_type": "code",
      "execution_count": null,
      "metadata": {
        "colab": {
          "base_uri": "https://localhost:8080/",
          "height": 1000
        },
        "id": "AJuzdEgygl8R",
        "outputId": "62b8756e-c449-459f-da82-8ec729b8957d"
      },
      "outputs": [],
      "source": [
        "filename_base = '/content/drive/MyDrive/AI Safety/Bilinear Features/Two Layers/'\n",
        "\n",
        "for class_idx in range(10):\n",
        "    Q = B_proj1[class_idx]\n",
        "    eigvals1, eigvecs1 = torch.linalg.eigh(Q)\n",
        "\n",
        "    plt.figure(figsize=(4,3))\n",
        "    plt.plot(eigvals1,'.-', markersize=7)\n",
        "    plt.ylabel('Eigenvalue')\n",
        "    plt.xlabel('Rank')\n",
        "    plt.title(f'Layer 2 Eigenvalues for \"{class_idx}\"')\n",
        "    plt.savefig(filename_base + f'layer2_eigenvalues_{class_idx}.png')\n",
        "\n",
        "    eig_idxs = [-1, -2, 0, 1]\n",
        "\n",
        "    B0 = einops.einsum(eigvecs1[:,eig_idxs], W0, V0, \"h eig, h in1, h in2 -> eig in1 in2\")\n",
        "    B_proj0 = 0.5 * B0 + 0.5 * B0.transpose(-2,-1)\n",
        "\n",
        "    input = eigvecs1[:,eig_idxs].T.to(model.cfg.device)\n",
        "    # x = model.layers[1](input + 0.33 * input.std() * torch.randn_like(input))\n",
        "    # logits = model.linear_out(x + 0.33 * x.std() * torch.randn_like(x)).cpu().detach()\n",
        "    logits = model.linear_out(model.layers[1](input))\n",
        "    logits = logits.cpu().detach()\n",
        "\n",
        "    eig_plotter = EigenvectorPlotter(B_proj0, logits, dataset=train_dataset, Embed = W_in)\n",
        "\n",
        "    for i in range(B_proj0.shape[0]):\n",
        "        eig_plotter.plot_component(i, suptitle=f\"Layer-2 Eig Rank: {eig_idxs[i]}\", vmax=0.25,\n",
        "                               classes = range(10), topk_eigs = 4, sort='eigs')\n",
        "        plt.savefig(filename_base + f'layer1_eigenvectors_{class_idx}_{i}.png')"
      ]
    }
  ],
  "metadata": {
    "accelerator": "GPU",
    "colab": {
      "collapsed_sections": [
        "ZiLi8oaKE7k3",
        "fIy4541d-CVe",
        "tw2pM1y5D5Qc"
      ],
      "gpuType": "T4",
      "provenance": [],
      "toc_visible": true
    },
    "kernelspec": {
      "display_name": "Python 3",
      "name": "python3"
    },
    "language_info": {
      "name": "python"
    }
  },
  "nbformat": 4,
  "nbformat_minor": 0
}
