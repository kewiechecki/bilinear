{
 "cells": [
  {
   "cell_type": "markdown",
   "metadata": {},
   "source": [
    "# Simplified MNIST decomposition example\n",
    "This aims to show how MNIST decomposition works.\n",
    "The *bulk* of the work is being done by the ``Eigen`` class, which (probably) shouldn't be too hard to understand."
   ]
  },
  {
   "cell_type": "code",
   "execution_count": null,
   "metadata": {},
   "outputs": [],
   "source": [
    "%load_ext autoreload\n",
    "%autoreload 2\n",
    "\n",
    "from mnist.simple.model import Model\n",
    "from mnist.simple.utils import MNIST, eigen\n",
    "import plotly.express as px\n",
    "from einops import *\n",
    "import torch\n",
    "\n",
    "# Train a simplified model\n",
    "model = Model.from_config(epochs=30, wd=0.5, latent_noise=0.0, input_noise=2.0, n_layer=1).cuda()\n",
    "train, test = MNIST(train=True, download=True), MNIST(train=False, download=True)\n",
    "\n",
    "torch.set_grad_enabled(True)\n",
    "metrics = model.fit(train, test)\n",
    "\n",
    "px.line(metrics, x=metrics.index, y=[\"train/acc\", \"val/acc\"], title=\"Acc\")"
   ]
  },
  {
   "cell_type": "code",
   "execution_count": null,
   "metadata": {},
   "outputs": [],
   "source": [
    "# Get the eigenvalues and eigenvectors of the model\n",
    "torch.set_grad_enabled(False)\n",
    "vals, vecs = eigen(model, 8)\n",
    "\n",
    "px.line(vals.cpu()).show()\n",
    "\n",
    "color = dict(color_continuous_scale=\"RdBu\", color_continuous_midpoint=0.0)\n",
    "px.imshow(vecs[-5:].flip(0).view(-1, 28, 28).cpu(), facet_col=0, **color).show()"
   ]
  }
 ],
 "metadata": {
  "kernelspec": {
   "display_name": "Python 3",
   "language": "python",
   "name": "python3"
  },
  "language_info": {
   "codemirror_mode": {
    "name": "ipython",
    "version": 3
   },
   "file_extension": ".py",
   "mimetype": "text/x-python",
   "name": "python",
   "nbconvert_exporter": "python",
   "pygments_lexer": "ipython3",
   "version": "3.11.4"
  }
 },
 "nbformat": 4,
 "nbformat_minor": 2
}
