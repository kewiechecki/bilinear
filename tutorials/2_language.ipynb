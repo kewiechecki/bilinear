{
 "cells": [
  {
   "cell_type": "markdown",
   "metadata": {},
   "source": [
    "# Language modelling\n",
    "*Thomas Dooms*"
   ]
  },
  {
   "cell_type": "markdown",
   "metadata": {},
   "source": [
    "The previous chapter covered how to study bilinear MLPs in a real-world scenario. We also discussed how to decompose interaction matrices into eigenvectors, which are interpretable and causally relevant. We now turn to language models and explain how this method can be leveraged to better understand latent interactions. This is done by leveraging latent feature bases, such as features from an SAE. Our aim is to demonstrate that weight-based interpretability is not some theoretical method that only works in small models but that it can be combined with many other techniques in complex real-world environments. In essence, weight-based interpretability allows us to 'trace' between existing features to better understand how they are formed or what their effect is.\n",
    "\n",
    "The main analysis technique we will discuss here is training two SAEs around the bilinear MLP. We then use the features from the output SAE as output features (just like the digits we chose previously). That way, we can decompose the MLP to which SAE input features interact strongly toward that output. In a sense, this technique finds shallow circuits (but grounded in the weights) in an MLP. "
   ]
  },
  {
   "cell_type": "code",
   "execution_count": 58,
   "metadata": {},
   "outputs": [
    {
     "name": "stdout",
     "output_type": "stream",
     "text": [
      "The autoreload extension is already loaded. To reload it, use:\n",
      "  %reload_ext autoreload\n"
     ]
    }
   ],
   "source": [
    "%load_ext autoreload\n",
    "%autoreload 2\n",
    "\n",
    "from language import Transformer\n",
    "from sae import Tracer, Visualizer\n",
    "from sae.functions import compute_truncated_eigenvalues\n",
    "\n",
    "import plotly.express as px\n",
    "import torch\n",
    "\n",
    "device = \"cuda:0\""
   ]
  },
  {
   "cell_type": "markdown",
   "metadata": {},
   "source": [
    "### Setting up.\n",
    "We generously received quite a bit of compute from Eleuther to train capable bilinear transformers. Here, we will study a GPT2-medium level model (which is probably somewhat undertrained) but can still produce coherent sentences and has non-trivial knowledge about some topics. The model has 16 layers and about 300M parameters. We have trained SAEs around each MLP layer for later analysis. \n",
    "\n",
    "Since we are using a modified architecture, we wrote the infrastructure ourselves, which may result in some annoyances due to the lack of standardization. Anyway, we load the model as in the code below. We can also generate some text to assess its capabilities. "
   ]
  },
  {
   "cell_type": "code",
   "execution_count": 59,
   "metadata": {},
   "outputs": [],
   "source": [
    "# Load a bilinear language model, trained on FineWeb-EDU.\n",
    "# This dataset is mostly (high-quality) scientific and educational texts.\n",
    "# This corresponds to GPT2-medium (16 layers, 1024 dimensions).\n",
    "torch.set_grad_enabled(False)\n",
    "model = Transformer.from_pretrained(\"tdooms/fw-medium\").to(device)"
   ]
  },
  {
   "cell_type": "code",
   "execution_count": 60,
   "metadata": {},
   "outputs": [
    {
     "data": {
      "text/plain": [
       "'If I may give you a piece of advice: life is only a walk in a shop. It can actually be said much more loudly than life can be said in a shop. Give it your appreciation'"
      ]
     },
     "execution_count": 60,
     "metadata": {},
     "output_type": "execute_result"
    }
   ],
   "source": [
    "# We can see the model can generate coherent text.\n",
    "# The model tries to be a smart-ass (FineWeb) but kinda fails.\n",
    "model.generate(\"If I may give you a piece of advice:\", max_length=30)"
   ]
  },
  {
   "cell_type": "markdown",
   "metadata": {},
   "source": [
    "We then instantiate some useful helper objects: \n",
    "- ``Tracer`` loads SAEs around the MLP of a given layer and contains some helper functions to compute interaction matrices between the two.\n",
    "- ``Visualizer`` shows the (pre-computed) top activations of SAE features to understand their meaning."
   ]
  },
  {
   "cell_type": "code",
   "execution_count": 61,
   "metadata": {},
   "outputs": [],
   "source": [
    "# We set up a Tracer object, which is a utility class to find interesting interactions between two SAEs around an MLP. \n",
    "# Let's inspect a middle layer.\n",
    "tracer = Tracer(model, layer=7, inp=dict(expansion=8), out=dict(expansion=8))\n",
    "\n",
    "# We then create a visualizer for both SAEs.\n",
    "# Implementation-wise, this queries some pre-computed max-activations and shows them in a nice format.\n",
    "inp_vis = Visualizer(model, tracer.inp)\n",
    "out_vis = Visualizer(model, tracer.out)"
   ]
  },
  {
   "cell_type": "markdown",
   "metadata": {},
   "source": [
    "### Finding interesting output features.\n",
    "With that out of the way, we now get to the interesting bit: analyzing interactions. This can be performed through several means and with multiple levels of rigor; this tutorial will only focus on the simplest: cherry-picking interesting examples. One way we found intriguing examples (that worked well) was by looking at high-level characteristics of all interaction matrices and choosing the outliers. As a metric, we choose the magnitude of the top eigenvectors. Keep in mind that this is simply a heuristic and not extremely principled. Given such features, let's look at their cosine similarities. "
   ]
  },
  {
   "cell_type": "code",
   "execution_count": 62,
   "metadata": {},
   "outputs": [
    {
     "name": "stderr",
     "output_type": "stream",
     "text": [
      "100%|██████████| 256/256 [01:06<00:00,  3.83it/s]\n"
     ]
    },
    {
     "data": {
      "application/vnd.plotly.v1+json": {
       "config": {
        "plotlyServerURL": "https://plot.ly"
       },
       "data": [
        {
         "coloraxis": "coloraxis",
         "hovertemplate": "x: %{x}<br>y: %{y}<br>color: %{z}<extra></extra>",
         "name": "0",
         "type": "heatmap",
         "x": [
          "3834",
          "751",
          "7068",
          "3697",
          "1063",
          "4917",
          "6714",
          "586",
          "3156",
          "3561"
         ],
         "xaxis": "x",
         "y": [
          "3834",
          "751",
          "7068",
          "3697",
          "1063",
          "4917",
          "6714",
          "586",
          "3156",
          "3561"
         ],
         "yaxis": "y",
         "z": [
          [
           1,
           -0.7254393696784973,
           -0.03534514456987381,
           0.023593828082084656,
           0.015679586678743362,
           0.0008923951536417007,
           0.0199330635368824,
           -0.019815124571323395,
           -0.004702707752585411,
           0.023145459592342377
          ],
          [
           -0.7254394888877869,
           1,
           0.022839507088065147,
           -0.022595666348934174,
           -0.0018483884632587433,
           0.013393739238381386,
           0.035668157041072845,
           -0.006051584146916866,
           -0.006475157104432583,
           -0.0037342095747590065
          ],
          [
           -0.03534515202045441,
           0.022839507088065147,
           1,
           0.005767686292529106,
           0.025498714298009872,
           0.03295770287513733,
           0.04556786268949509,
           0.0012664981186389923,
           0.05568849667906761,
           0.030497746542096138
          ],
          [
           0.023593831807374954,
           -0.022595666348934174,
           0.005767686292529106,
           1,
           0.11139249801635742,
           -0.00013583688996732235,
           0.1652987003326416,
           -0.006395312957465649,
           0.021827423945069313,
           -0.0611644871532917
          ],
          [
           0.015679586678743362,
           -0.0018483884632587433,
           0.025498714298009872,
           0.11139249801635742,
           1,
           0.052181974053382874,
           0.24790281057357788,
           -0.02003767341375351,
           -0.009208505041897297,
           -0.046748965978622437
          ],
          [
           0.0008923979476094246,
           0.013393739238381386,
           0.03295770287513733,
           -0.00013583688996732235,
           0.052181974053382874,
           1.0000001192092896,
           0.05737370252609253,
           -0.004965737462043762,
           -0.016430899500846863,
           -0.022123444825410843
          ],
          [
           0.01993306539952755,
           0.035668157041072845,
           0.04556786268949509,
           0.1652987003326416,
           0.24790281057357788,
           0.05737370252609253,
           1,
           -0.019884606823325157,
           0.0020081503316760063,
           -0.043683070689439774
          ],
          [
           -0.01981513760983944,
           -0.00605158694088459,
           0.001266496255993843,
           -0.006395312026143074,
           -0.02003767341375351,
           -0.004965737462043762,
           -0.01988460123538971,
           1.0000001192092896,
           0.011511237360537052,
           -0.03987458720803261
          ],
          [
           -0.00470270961523056,
           -0.006475157104432583,
           0.05568849667906761,
           0.021827423945069313,
           -0.009208505041897297,
           -0.016430899500846863,
           0.0020081503316760063,
           0.011511236429214478,
           1,
           0.032900918275117874
          ],
          [
           0.023145463317632675,
           -0.0037342081777751446,
           0.03049774467945099,
           -0.061164483428001404,
           -0.04674895480275154,
           -0.022123442962765694,
           -0.04368307441473007,
           -0.03987458348274231,
           0.032900914549827576,
           1
          ]
         ]
        }
       ],
       "layout": {
        "coloraxis": {
         "cmid": 0,
         "colorscale": [
          [
           0,
           "rgb(103,0,31)"
          ],
          [
           0.1,
           "rgb(178,24,43)"
          ],
          [
           0.2,
           "rgb(214,96,77)"
          ],
          [
           0.3,
           "rgb(244,165,130)"
          ],
          [
           0.4,
           "rgb(253,219,199)"
          ],
          [
           0.5,
           "rgb(247,247,247)"
          ],
          [
           0.6,
           "rgb(209,229,240)"
          ],
          [
           0.7,
           "rgb(146,197,222)"
          ],
          [
           0.8,
           "rgb(67,147,195)"
          ],
          [
           0.9,
           "rgb(33,102,172)"
          ],
          [
           1,
           "rgb(5,48,97)"
          ]
         ]
        },
        "margin": {
         "t": 60
        },
        "template": {
         "data": {
          "bar": [
           {
            "error_x": {
             "color": "#2a3f5f"
            },
            "error_y": {
             "color": "#2a3f5f"
            },
            "marker": {
             "line": {
              "color": "#E5ECF6",
              "width": 0.5
             },
             "pattern": {
              "fillmode": "overlay",
              "size": 10,
              "solidity": 0.2
             }
            },
            "type": "bar"
           }
          ],
          "barpolar": [
           {
            "marker": {
             "line": {
              "color": "#E5ECF6",
              "width": 0.5
             },
             "pattern": {
              "fillmode": "overlay",
              "size": 10,
              "solidity": 0.2
             }
            },
            "type": "barpolar"
           }
          ],
          "carpet": [
           {
            "aaxis": {
             "endlinecolor": "#2a3f5f",
             "gridcolor": "white",
             "linecolor": "white",
             "minorgridcolor": "white",
             "startlinecolor": "#2a3f5f"
            },
            "baxis": {
             "endlinecolor": "#2a3f5f",
             "gridcolor": "white",
             "linecolor": "white",
             "minorgridcolor": "white",
             "startlinecolor": "#2a3f5f"
            },
            "type": "carpet"
           }
          ],
          "choropleth": [
           {
            "colorbar": {
             "outlinewidth": 0,
             "ticks": ""
            },
            "type": "choropleth"
           }
          ],
          "contour": [
           {
            "colorbar": {
             "outlinewidth": 0,
             "ticks": ""
            },
            "colorscale": [
             [
              0,
              "#0d0887"
             ],
             [
              0.1111111111111111,
              "#46039f"
             ],
             [
              0.2222222222222222,
              "#7201a8"
             ],
             [
              0.3333333333333333,
              "#9c179e"
             ],
             [
              0.4444444444444444,
              "#bd3786"
             ],
             [
              0.5555555555555556,
              "#d8576b"
             ],
             [
              0.6666666666666666,
              "#ed7953"
             ],
             [
              0.7777777777777778,
              "#fb9f3a"
             ],
             [
              0.8888888888888888,
              "#fdca26"
             ],
             [
              1,
              "#f0f921"
             ]
            ],
            "type": "contour"
           }
          ],
          "contourcarpet": [
           {
            "colorbar": {
             "outlinewidth": 0,
             "ticks": ""
            },
            "type": "contourcarpet"
           }
          ],
          "heatmap": [
           {
            "colorbar": {
             "outlinewidth": 0,
             "ticks": ""
            },
            "colorscale": [
             [
              0,
              "#0d0887"
             ],
             [
              0.1111111111111111,
              "#46039f"
             ],
             [
              0.2222222222222222,
              "#7201a8"
             ],
             [
              0.3333333333333333,
              "#9c179e"
             ],
             [
              0.4444444444444444,
              "#bd3786"
             ],
             [
              0.5555555555555556,
              "#d8576b"
             ],
             [
              0.6666666666666666,
              "#ed7953"
             ],
             [
              0.7777777777777778,
              "#fb9f3a"
             ],
             [
              0.8888888888888888,
              "#fdca26"
             ],
             [
              1,
              "#f0f921"
             ]
            ],
            "type": "heatmap"
           }
          ],
          "heatmapgl": [
           {
            "colorbar": {
             "outlinewidth": 0,
             "ticks": ""
            },
            "colorscale": [
             [
              0,
              "#0d0887"
             ],
             [
              0.1111111111111111,
              "#46039f"
             ],
             [
              0.2222222222222222,
              "#7201a8"
             ],
             [
              0.3333333333333333,
              "#9c179e"
             ],
             [
              0.4444444444444444,
              "#bd3786"
             ],
             [
              0.5555555555555556,
              "#d8576b"
             ],
             [
              0.6666666666666666,
              "#ed7953"
             ],
             [
              0.7777777777777778,
              "#fb9f3a"
             ],
             [
              0.8888888888888888,
              "#fdca26"
             ],
             [
              1,
              "#f0f921"
             ]
            ],
            "type": "heatmapgl"
           }
          ],
          "histogram": [
           {
            "marker": {
             "pattern": {
              "fillmode": "overlay",
              "size": 10,
              "solidity": 0.2
             }
            },
            "type": "histogram"
           }
          ],
          "histogram2d": [
           {
            "colorbar": {
             "outlinewidth": 0,
             "ticks": ""
            },
            "colorscale": [
             [
              0,
              "#0d0887"
             ],
             [
              0.1111111111111111,
              "#46039f"
             ],
             [
              0.2222222222222222,
              "#7201a8"
             ],
             [
              0.3333333333333333,
              "#9c179e"
             ],
             [
              0.4444444444444444,
              "#bd3786"
             ],
             [
              0.5555555555555556,
              "#d8576b"
             ],
             [
              0.6666666666666666,
              "#ed7953"
             ],
             [
              0.7777777777777778,
              "#fb9f3a"
             ],
             [
              0.8888888888888888,
              "#fdca26"
             ],
             [
              1,
              "#f0f921"
             ]
            ],
            "type": "histogram2d"
           }
          ],
          "histogram2dcontour": [
           {
            "colorbar": {
             "outlinewidth": 0,
             "ticks": ""
            },
            "colorscale": [
             [
              0,
              "#0d0887"
             ],
             [
              0.1111111111111111,
              "#46039f"
             ],
             [
              0.2222222222222222,
              "#7201a8"
             ],
             [
              0.3333333333333333,
              "#9c179e"
             ],
             [
              0.4444444444444444,
              "#bd3786"
             ],
             [
              0.5555555555555556,
              "#d8576b"
             ],
             [
              0.6666666666666666,
              "#ed7953"
             ],
             [
              0.7777777777777778,
              "#fb9f3a"
             ],
             [
              0.8888888888888888,
              "#fdca26"
             ],
             [
              1,
              "#f0f921"
             ]
            ],
            "type": "histogram2dcontour"
           }
          ],
          "mesh3d": [
           {
            "colorbar": {
             "outlinewidth": 0,
             "ticks": ""
            },
            "type": "mesh3d"
           }
          ],
          "parcoords": [
           {
            "line": {
             "colorbar": {
              "outlinewidth": 0,
              "ticks": ""
             }
            },
            "type": "parcoords"
           }
          ],
          "pie": [
           {
            "automargin": true,
            "type": "pie"
           }
          ],
          "scatter": [
           {
            "fillpattern": {
             "fillmode": "overlay",
             "size": 10,
             "solidity": 0.2
            },
            "type": "scatter"
           }
          ],
          "scatter3d": [
           {
            "line": {
             "colorbar": {
              "outlinewidth": 0,
              "ticks": ""
             }
            },
            "marker": {
             "colorbar": {
              "outlinewidth": 0,
              "ticks": ""
             }
            },
            "type": "scatter3d"
           }
          ],
          "scattercarpet": [
           {
            "marker": {
             "colorbar": {
              "outlinewidth": 0,
              "ticks": ""
             }
            },
            "type": "scattercarpet"
           }
          ],
          "scattergeo": [
           {
            "marker": {
             "colorbar": {
              "outlinewidth": 0,
              "ticks": ""
             }
            },
            "type": "scattergeo"
           }
          ],
          "scattergl": [
           {
            "marker": {
             "colorbar": {
              "outlinewidth": 0,
              "ticks": ""
             }
            },
            "type": "scattergl"
           }
          ],
          "scattermapbox": [
           {
            "marker": {
             "colorbar": {
              "outlinewidth": 0,
              "ticks": ""
             }
            },
            "type": "scattermapbox"
           }
          ],
          "scatterpolar": [
           {
            "marker": {
             "colorbar": {
              "outlinewidth": 0,
              "ticks": ""
             }
            },
            "type": "scatterpolar"
           }
          ],
          "scatterpolargl": [
           {
            "marker": {
             "colorbar": {
              "outlinewidth": 0,
              "ticks": ""
             }
            },
            "type": "scatterpolargl"
           }
          ],
          "scatterternary": [
           {
            "marker": {
             "colorbar": {
              "outlinewidth": 0,
              "ticks": ""
             }
            },
            "type": "scatterternary"
           }
          ],
          "surface": [
           {
            "colorbar": {
             "outlinewidth": 0,
             "ticks": ""
            },
            "colorscale": [
             [
              0,
              "#0d0887"
             ],
             [
              0.1111111111111111,
              "#46039f"
             ],
             [
              0.2222222222222222,
              "#7201a8"
             ],
             [
              0.3333333333333333,
              "#9c179e"
             ],
             [
              0.4444444444444444,
              "#bd3786"
             ],
             [
              0.5555555555555556,
              "#d8576b"
             ],
             [
              0.6666666666666666,
              "#ed7953"
             ],
             [
              0.7777777777777778,
              "#fb9f3a"
             ],
             [
              0.8888888888888888,
              "#fdca26"
             ],
             [
              1,
              "#f0f921"
             ]
            ],
            "type": "surface"
           }
          ],
          "table": [
           {
            "cells": {
             "fill": {
              "color": "#EBF0F8"
             },
             "line": {
              "color": "white"
             }
            },
            "header": {
             "fill": {
              "color": "#C8D4E3"
             },
             "line": {
              "color": "white"
             }
            },
            "type": "table"
           }
          ]
         },
         "layout": {
          "annotationdefaults": {
           "arrowcolor": "#2a3f5f",
           "arrowhead": 0,
           "arrowwidth": 1
          },
          "autotypenumbers": "strict",
          "coloraxis": {
           "colorbar": {
            "outlinewidth": 0,
            "ticks": ""
           }
          },
          "colorscale": {
           "diverging": [
            [
             0,
             "#8e0152"
            ],
            [
             0.1,
             "#c51b7d"
            ],
            [
             0.2,
             "#de77ae"
            ],
            [
             0.3,
             "#f1b6da"
            ],
            [
             0.4,
             "#fde0ef"
            ],
            [
             0.5,
             "#f7f7f7"
            ],
            [
             0.6,
             "#e6f5d0"
            ],
            [
             0.7,
             "#b8e186"
            ],
            [
             0.8,
             "#7fbc41"
            ],
            [
             0.9,
             "#4d9221"
            ],
            [
             1,
             "#276419"
            ]
           ],
           "sequential": [
            [
             0,
             "#0d0887"
            ],
            [
             0.1111111111111111,
             "#46039f"
            ],
            [
             0.2222222222222222,
             "#7201a8"
            ],
            [
             0.3333333333333333,
             "#9c179e"
            ],
            [
             0.4444444444444444,
             "#bd3786"
            ],
            [
             0.5555555555555556,
             "#d8576b"
            ],
            [
             0.6666666666666666,
             "#ed7953"
            ],
            [
             0.7777777777777778,
             "#fb9f3a"
            ],
            [
             0.8888888888888888,
             "#fdca26"
            ],
            [
             1,
             "#f0f921"
            ]
           ],
           "sequentialminus": [
            [
             0,
             "#0d0887"
            ],
            [
             0.1111111111111111,
             "#46039f"
            ],
            [
             0.2222222222222222,
             "#7201a8"
            ],
            [
             0.3333333333333333,
             "#9c179e"
            ],
            [
             0.4444444444444444,
             "#bd3786"
            ],
            [
             0.5555555555555556,
             "#d8576b"
            ],
            [
             0.6666666666666666,
             "#ed7953"
            ],
            [
             0.7777777777777778,
             "#fb9f3a"
            ],
            [
             0.8888888888888888,
             "#fdca26"
            ],
            [
             1,
             "#f0f921"
            ]
           ]
          },
          "colorway": [
           "#636efa",
           "#EF553B",
           "#00cc96",
           "#ab63fa",
           "#FFA15A",
           "#19d3f3",
           "#FF6692",
           "#B6E880",
           "#FF97FF",
           "#FECB52"
          ],
          "font": {
           "color": "#2a3f5f"
          },
          "geo": {
           "bgcolor": "white",
           "lakecolor": "white",
           "landcolor": "#E5ECF6",
           "showlakes": true,
           "showland": true,
           "subunitcolor": "white"
          },
          "hoverlabel": {
           "align": "left"
          },
          "hovermode": "closest",
          "mapbox": {
           "style": "light"
          },
          "paper_bgcolor": "white",
          "plot_bgcolor": "#E5ECF6",
          "polar": {
           "angularaxis": {
            "gridcolor": "white",
            "linecolor": "white",
            "ticks": ""
           },
           "bgcolor": "#E5ECF6",
           "radialaxis": {
            "gridcolor": "white",
            "linecolor": "white",
            "ticks": ""
           }
          },
          "scene": {
           "xaxis": {
            "backgroundcolor": "#E5ECF6",
            "gridcolor": "white",
            "gridwidth": 2,
            "linecolor": "white",
            "showbackground": true,
            "ticks": "",
            "zerolinecolor": "white"
           },
           "yaxis": {
            "backgroundcolor": "#E5ECF6",
            "gridcolor": "white",
            "gridwidth": 2,
            "linecolor": "white",
            "showbackground": true,
            "ticks": "",
            "zerolinecolor": "white"
           },
           "zaxis": {
            "backgroundcolor": "#E5ECF6",
            "gridcolor": "white",
            "gridwidth": 2,
            "linecolor": "white",
            "showbackground": true,
            "ticks": "",
            "zerolinecolor": "white"
           }
          },
          "shapedefaults": {
           "line": {
            "color": "#2a3f5f"
           }
          },
          "ternary": {
           "aaxis": {
            "gridcolor": "white",
            "linecolor": "white",
            "ticks": ""
           },
           "baxis": {
            "gridcolor": "white",
            "linecolor": "white",
            "ticks": ""
           },
           "bgcolor": "#E5ECF6",
           "caxis": {
            "gridcolor": "white",
            "linecolor": "white",
            "ticks": ""
           }
          },
          "title": {
           "x": 0.05
          },
          "xaxis": {
           "automargin": true,
           "gridcolor": "white",
           "linecolor": "white",
           "ticks": "",
           "title": {
            "standoff": 15
           },
           "zerolinecolor": "white",
           "zerolinewidth": 2
          },
          "yaxis": {
           "automargin": true,
           "gridcolor": "white",
           "linecolor": "white",
           "ticks": "",
           "title": {
            "standoff": 15
           },
           "zerolinecolor": "white",
           "zerolinewidth": 2
          }
         }
        },
        "xaxis": {
         "anchor": "y",
         "constrain": "domain",
         "domain": [
          0,
          1
         ],
         "scaleanchor": "y"
        },
        "yaxis": {
         "anchor": "x",
         "autorange": "reversed",
         "constrain": "domain",
         "domain": [
          0,
          1
         ]
        }
       }
      }
     },
     "metadata": {},
     "output_type": "display_data"
    }
   ],
   "source": [
    "# Running this cell may take awhile depending on your CPU/GPU.\n",
    "\n",
    "# Compute output features whose top eigenvalues are high, likely indicating some interesting structure.\n",
    "eigenvals = tracer.compute(compute_truncated_eigenvalues, project=False, k=2)\n",
    "vals, idxs = eigenvals.topk(10)\n",
    "\n",
    "# Plot the cosine similarity between these features to see if any are related.\n",
    "dirs = tracer.out.w_dec.weight[:, idxs]\n",
    "sims = torch.cosine_similarity(dirs[..., None], dirs[:, None], dim=0)\n",
    "\n",
    "# Visualize them nicely.\n",
    "labels = [f\"{i}\" for i in idxs.cpu()]\n",
    "px.imshow(sims.cpu(), color_continuous_scale=\"RdBu\", color_continuous_midpoint=0, x=labels, y=labels)"
   ]
  },
  {
   "cell_type": "markdown",
   "metadata": {},
   "source": [
    "Interestingly, the top two features form a (somewhat) linear subspace. We can try to understand their meaning by looking at their top activations."
   ]
  },
  {
   "cell_type": "code",
   "execution_count": null,
   "metadata": {},
   "outputs": [
    {
     "name": "stderr",
     "output_type": "stream",
     "text": [
      "You're using a LlamaTokenizerFast tokenizer. Please note that with a fast tokenizer, using the `__call__` method is faster than using a method to encode the text followed by a call to the `pad` method to get a padded encoding.\n"
     ]
    },
    {
     "name": "stdout",
     "output_type": "stream",
     "text": [
      "feature 3834\n",
      "9.2 :   next time the child logs on. \u001b[48;2;3;3;17mNo\u001b[0m work \u001b[48;2;6;5;25mis\u001b[0m \u001b[48;2;221;73;104mlost\u001b[0m\u001b[48;2;10;7;34m.\u001b[0m<0x0A>Windows Vista \u001b[48;2;3;3;17meven\u001b[0m provides easy\u001b[48;2;6;5;25m-\u001b[0mto-read activity reports that show how children have\n",
      "8.9 :  \u001b[48;2;2;2;15m,\u001b[0m but he doesn’t let \u001b[48;2;9;7;31mthat\u001b[0m interf\u001b[48;2;221;73;104mere\u001b[0m \u001b[48;2;132;38;129mwith\u001b[0m \u001b[48;2;8;6;29mhim\u001b[0m enjoying his life like any other 22-year-old. He has a\n",
      "8.8 :   The Tafahum initiative coun\u001b[48;2;8;6;29mters\u001b[0m big\u001b[48;2;74;16;121mot\u001b[0m\u001b[48;2;221;73;104mry\u001b[0m \u001b[48;2;13;10;40mand\u001b[0m promotes tolerance. In the aftermath of September 11, we need to develop\n",
      "8.5 :   lawful content, applications, services or \u001b[48;2;10;7;34munh\u001b[0m\u001b[48;2;90;21;126marm\u001b[0m\u001b[48;2;221;73;104mful\u001b[0m \u001b[48;2;6;5;25mdevices\u001b[0m.<0x0A>- No Throttling: Broadband providers may not deliberately target some lawful\n",
      "8.5 :  100 \u001b[48;2;3;3;17ma\u001b[0merial combat victories with \u001b[48;2;4;4;21mno\u001b[0m \u001b[48;2;221;73;104mlosses\u001b[0m \u001b[48;2;166;49;125min\u001b[0m dogfights. Following reviews of proposals, the United States Air Force selected McDonnell\n",
      "\n",
      "feature 751\n",
      "6.3 :  a, or vomiting that doesn’t go \u001b[48;2;221;73;104maway\u001b[0m \u001b[48;2;20;13;53mduring\u001b[0m or \u001b[48;2;10;7;34mafter\u001b[0m colorectal cancer treatment, call your doctor or go to the emergency room\n",
      "6.0 :   at all. \u001b[48;2;5;4;23mAnt\u001b[0mibiotics are not harm\u001b[48;2;221;73;104mless\u001b[0m \u001b[48;2;74;16;121mand\u001b[0m at times have some serious side effects\u001b[48;2;1;1;11m.\u001b[0m<0x0A>If your throat is really swollen, your\n",
      "5.2 :   with moisturizers and cosmetics offering \u001b[48;2;43;17;94mlittle\u001b[0m \u001b[48;2;221;73;104mrelief\u001b[0m. Taking a closer look at the causes and effective treatments available may help you deal with this problem\n",
      "5.1 :   if the rash is persistent and does not go \u001b[48;2;221;73;104maway\u001b[0m. According to Melanoma.com, melanoma, a skin cancer, has a\n",
      "5.1 :  ed to obey its laws; and he is not \u001b[48;2;221;73;104mfree\u001b[0m \u001b[48;2;47;16;98meven\u001b[0m \u001b[48;2;23;15;60mto\u001b[0m interpret the laws in a special manner. This looks at first \u001b[48;2;17;12;49mlike\u001b[0m \u001b[48;2;8;6;29ma\u001b[0m loss of \u001b[48;2;52;16;104mfreedom\u001b[0m\n",
      "\n"
     ]
    }
   ],
   "source": [
    "# Let's inspect the (somewhat) linear subspace.\n",
    "# This function can visualize arbitrarily many features \n",
    "# It even has a dark mode, which you should disable if you're using a white background.\n",
    "out_vis(3834, 751, dark=True)"
   ]
  },
  {
   "cell_type": "markdown",
   "metadata": {},
   "source": [
    "The first feature fires on negative words that have recently been negated (not lost, no interference). The second feature does the inverse; it fires on positive words that were negated (not free, little relief). It's not surprising that this forms a linear subspace as the two are opposites, but it is still interesting. What I find fascinating is that we also found this subspace (using the same technique) in a completely different model trained on TinyStories. "
   ]
  },
  {
   "cell_type": "markdown",
   "metadata": {},
   "source": [
    "### Understanding feature interactions.\n",
    "To understand how these features are formed, we can then look at the most salient entries in their interaction matrices. We find that the eigendecomposition of any output feature is quite low-rank. Sadly, while interpreting these eigenvectors in image models is easy (the eigenvectors are simply images), here, the eigenvectors are vectors of all SAE features. Consequently, we have to resort to sparsity.\n",
    "\n",
    "Here, we take the top 50 interactions in the whole interaction matrix and plot their submatrix (the smallest matrix containing all of them). We see that this matrix is quite small, and the features interact in a seemingly systematic manner."
   ]
  },
  {
   "cell_type": "code",
   "execution_count": 64,
   "metadata": {},
   "outputs": [
    {
     "data": {
      "application/vnd.plotly.v1+json": {
       "config": {
        "plotlyServerURL": "https://plot.ly"
       },
       "data": [
        {
         "coloraxis": "coloraxis",
         "hovertemplate": "x: %{x}<br>y: %{y}<br>color: %{z}<extra></extra>",
         "name": "0",
         "type": "heatmap",
         "x": [
          "19",
          "654",
          "682",
          "1358",
          "2021",
          "2111",
          "3601",
          "3615",
          "3777",
          "4153",
          "4619",
          "5201",
          "6051",
          "6166",
          "6993",
          "7455"
         ],
         "xaxis": "x",
         "y": [
          "19",
          "654",
          "682",
          "1358",
          "2021",
          "2111",
          "3601",
          "3615",
          "3777",
          "4153",
          "4619",
          "5201",
          "6051",
          "6166",
          "6993",
          "7455"
         ],
         "yaxis": "y",
         "z": [
          [
           -0.023438002914190292,
           -0.022228002548217773,
           -0.050463125109672546,
           -0.04997294396162033,
           -0.01627069152891636,
           -0.04064378887414932,
           -0.02961040660738945,
           -0.011180405505001545,
           -0.05459483712911606,
           0.0151298139244318,
           0.01510325912386179,
           -0.030570324510335922,
           -0.03152187168598175,
           0.012183869257569313,
           -0.07457103580236435,
           0.01530512049794197
          ],
          [
           0.10693581402301788,
           0.09332609176635742,
           0.04908662289381027,
           0.05071272328495979,
           0.07387653738260269,
           0.03785623237490654,
           0.09857775270938873,
           0.06507417559623718,
           0.02688392996788025,
           -0.07055710256099701,
           -0.07539588958024979,
           0.09749789535999298,
           0.0926586389541626,
           -0.07051115483045578,
           0.05872208625078201,
           -0.07457103580236435
          ],
          [
           -0.016965962946414948,
           -0.01962818205356598,
           -0.05001010373234749,
           -0.04793520271778107,
           -0.015283295884728432,
           -0.04354867711663246,
           -0.02154245227575302,
           -0.010304925963282585,
           -0.060662101954221725,
           0.01665922999382019,
           0.015625597909092903,
           -0.022797342389822006,
           -0.018088120967149734,
           0.013254583813250065,
           -0.07051115483045578,
           0.012183869257569313
          ],
          [
           0.0348021537065506,
           0.036615028977394104,
           0.06809408962726593,
           0.06328045576810837,
           0.023692790418863297,
           0.04803430289030075,
           0.03448774293065071,
           0.021779004484415054,
           0.058882370591163635,
           -0.025668304413557053,
           -0.028853464871644974,
           0.037751518189907074,
           0.03218363597989082,
           -0.018088120967149734,
           0.0926586389541626,
           -0.03152187168598175
          ],
          [
           0.03325115889310837,
           0.04141669720411301,
           0.06614436209201813,
           0.06634136289358139,
           0.027621805667877197,
           0.05808641389012337,
           0.036221250891685486,
           0.02291198819875717,
           0.06946955621242523,
           -0.030635755509138107,
           -0.03344990313053131,
           0.03153613209724426,
           0.037751518189907074,
           -0.022797342389822006,
           0.09749789535999298,
           -0.030570324510335922
          ],
          [
           -0.021094635128974915,
           -0.025444086641073227,
           -0.05308361351490021,
           -0.04647624120116234,
           -0.015502185560762882,
           -0.037245381623506546,
           -0.0258586797863245,
           -0.011196538805961609,
           -0.05557017773389816,
           0.0163830928504467,
           0.014818591065704823,
           -0.03344990313053131,
           -0.028853464871644974,
           0.015625597909092903,
           -0.07539588958024979,
           0.01510325912386179
          ],
          [
           -0.02586524933576584,
           -0.02430792525410652,
           -0.05358021706342697,
           -0.0466599203646183,
           -0.018572136759757996,
           -0.03806876391172409,
           -0.028815941885113716,
           -0.013765253126621246,
           -0.05468826740980148,
           0.02028314210474491,
           0.0163830928504467,
           -0.030635755509138107,
           -0.025668304413557053,
           0.01665922999382019,
           -0.07055710256099701,
           0.0151298139244318
          ],
          [
           0.0764840841293335,
           0.0803576186299324,
           0.031691424548625946,
           0.03632506728172302,
           0.053540654480457306,
           0.022821268066763878,
           0.07284712791442871,
           0.04585270956158638,
           0.025027098134160042,
           -0.05468826740980148,
           -0.05557017773389816,
           0.06946955621242523,
           0.058882370591163635,
           -0.060662101954221725,
           0.02688392996788025,
           -0.05459483712911606
          ],
          [
           0.016033241525292397,
           0.01858285441994667,
           0.04501417651772499,
           0.04558710753917694,
           0.01136331632733345,
           0.03342864662408829,
           0.017525987699627876,
           0.003762106643989682,
           0.04585270956158638,
           -0.013765253126621246,
           -0.011196538805961609,
           0.02291198819875717,
           0.021779004484415054,
           -0.010304925963282585,
           0.06507417559623718,
           -0.011180405505001545
          ],
          [
           0.029718443751335144,
           0.03909021615982056,
           0.06746275722980499,
           0.06926246732473373,
           0.02327900379896164,
           0.06117934361100197,
           0.026846498250961304,
           0.017525987699627876,
           0.07284712791442871,
           -0.028815941885113716,
           -0.0258586797863245,
           0.036221250891685486,
           0.03448774293065071,
           -0.02154245227575302,
           0.09857775270938873,
           -0.02961040660738945
          ],
          [
           0.06569354981184006,
           0.059703584760427475,
           0.032867372035980225,
           0.03871604800224304,
           0.037047743797302246,
           0.014722425490617752,
           0.06117934361100197,
           0.03342864662408829,
           0.022821268066763878,
           -0.03806876391172409,
           -0.037245381623506546,
           0.05808641389012337,
           0.04803430289030075,
           -0.04354867711663246,
           0.03785623237490654,
           -0.04064378887414932
          ],
          [
           0.020880497992038727,
           0.026064138859510422,
           0.05118516832590103,
           0.047747332602739334,
           0.011657500639557838,
           0.037047743797302246,
           0.02327900379896164,
           0.01136331632733345,
           0.053540654480457306,
           -0.018572136759757996,
           -0.015502185560762882,
           0.027621805667877197,
           0.023692790418863297,
           -0.015283295884728432,
           0.07387653738260269,
           -0.01627069152891636
          ],
          [
           0.07082139700651169,
           0.07533427327871323,
           0.043658286333084106,
           0.04877583682537079,
           0.047747332602739334,
           0.03871604800224304,
           0.06926246732473373,
           0.04558710753917694,
           0.03632506728172302,
           -0.0466599203646183,
           -0.04647624120116234,
           0.06634136289358139,
           0.06328045576810837,
           -0.04793520271778107,
           0.05071272328495979,
           -0.04997294396162033
          ],
          [
           0.07569076120853424,
           0.07365144044160843,
           0.05235930159687996,
           0.043658286333084106,
           0.05118516832590103,
           0.032867372035980225,
           0.06746275722980499,
           0.04501417651772499,
           0.031691424548625946,
           -0.05358021706342697,
           -0.05308361351490021,
           0.06614436209201813,
           0.06809408962726593,
           -0.05001010373234749,
           0.04908662289381027,
           -0.050463125109672546
          ],
          [
           0.03775429725646973,
           0.034438177943229675,
           0.07365144044160843,
           0.07533427327871323,
           0.026064138859510422,
           0.059703584760427475,
           0.03909021615982056,
           0.01858285441994667,
           0.0803576186299324,
           -0.02430792525410652,
           -0.025444086641073227,
           0.04141669720411301,
           0.036615028977394104,
           -0.01962818205356598,
           0.09332609176635742,
           -0.022228002548217773
          ],
          [
           0.015677493065595627,
           0.03775429725646973,
           0.07569076120853424,
           0.07082139700651169,
           0.020880497992038727,
           0.06569354981184006,
           0.029718443751335144,
           0.016033241525292397,
           0.0764840841293335,
           -0.02586524933576584,
           -0.021094635128974915,
           0.03325115889310837,
           0.0348021537065506,
           -0.016965962946414948,
           0.10693581402301788,
           -0.023438002914190292
          ]
         ]
        }
       ],
       "layout": {
        "coloraxis": {
         "cmid": 0,
         "colorscale": [
          [
           0,
           "rgb(103,0,31)"
          ],
          [
           0.1,
           "rgb(178,24,43)"
          ],
          [
           0.2,
           "rgb(214,96,77)"
          ],
          [
           0.3,
           "rgb(244,165,130)"
          ],
          [
           0.4,
           "rgb(253,219,199)"
          ],
          [
           0.5,
           "rgb(247,247,247)"
          ],
          [
           0.6,
           "rgb(209,229,240)"
          ],
          [
           0.7,
           "rgb(146,197,222)"
          ],
          [
           0.8,
           "rgb(67,147,195)"
          ],
          [
           0.9,
           "rgb(33,102,172)"
          ],
          [
           1,
           "rgb(5,48,97)"
          ]
         ]
        },
        "margin": {
         "t": 60
        },
        "template": {
         "data": {
          "bar": [
           {
            "error_x": {
             "color": "#2a3f5f"
            },
            "error_y": {
             "color": "#2a3f5f"
            },
            "marker": {
             "line": {
              "color": "#E5ECF6",
              "width": 0.5
             },
             "pattern": {
              "fillmode": "overlay",
              "size": 10,
              "solidity": 0.2
             }
            },
            "type": "bar"
           }
          ],
          "barpolar": [
           {
            "marker": {
             "line": {
              "color": "#E5ECF6",
              "width": 0.5
             },
             "pattern": {
              "fillmode": "overlay",
              "size": 10,
              "solidity": 0.2
             }
            },
            "type": "barpolar"
           }
          ],
          "carpet": [
           {
            "aaxis": {
             "endlinecolor": "#2a3f5f",
             "gridcolor": "white",
             "linecolor": "white",
             "minorgridcolor": "white",
             "startlinecolor": "#2a3f5f"
            },
            "baxis": {
             "endlinecolor": "#2a3f5f",
             "gridcolor": "white",
             "linecolor": "white",
             "minorgridcolor": "white",
             "startlinecolor": "#2a3f5f"
            },
            "type": "carpet"
           }
          ],
          "choropleth": [
           {
            "colorbar": {
             "outlinewidth": 0,
             "ticks": ""
            },
            "type": "choropleth"
           }
          ],
          "contour": [
           {
            "colorbar": {
             "outlinewidth": 0,
             "ticks": ""
            },
            "colorscale": [
             [
              0,
              "#0d0887"
             ],
             [
              0.1111111111111111,
              "#46039f"
             ],
             [
              0.2222222222222222,
              "#7201a8"
             ],
             [
              0.3333333333333333,
              "#9c179e"
             ],
             [
              0.4444444444444444,
              "#bd3786"
             ],
             [
              0.5555555555555556,
              "#d8576b"
             ],
             [
              0.6666666666666666,
              "#ed7953"
             ],
             [
              0.7777777777777778,
              "#fb9f3a"
             ],
             [
              0.8888888888888888,
              "#fdca26"
             ],
             [
              1,
              "#f0f921"
             ]
            ],
            "type": "contour"
           }
          ],
          "contourcarpet": [
           {
            "colorbar": {
             "outlinewidth": 0,
             "ticks": ""
            },
            "type": "contourcarpet"
           }
          ],
          "heatmap": [
           {
            "colorbar": {
             "outlinewidth": 0,
             "ticks": ""
            },
            "colorscale": [
             [
              0,
              "#0d0887"
             ],
             [
              0.1111111111111111,
              "#46039f"
             ],
             [
              0.2222222222222222,
              "#7201a8"
             ],
             [
              0.3333333333333333,
              "#9c179e"
             ],
             [
              0.4444444444444444,
              "#bd3786"
             ],
             [
              0.5555555555555556,
              "#d8576b"
             ],
             [
              0.6666666666666666,
              "#ed7953"
             ],
             [
              0.7777777777777778,
              "#fb9f3a"
             ],
             [
              0.8888888888888888,
              "#fdca26"
             ],
             [
              1,
              "#f0f921"
             ]
            ],
            "type": "heatmap"
           }
          ],
          "heatmapgl": [
           {
            "colorbar": {
             "outlinewidth": 0,
             "ticks": ""
            },
            "colorscale": [
             [
              0,
              "#0d0887"
             ],
             [
              0.1111111111111111,
              "#46039f"
             ],
             [
              0.2222222222222222,
              "#7201a8"
             ],
             [
              0.3333333333333333,
              "#9c179e"
             ],
             [
              0.4444444444444444,
              "#bd3786"
             ],
             [
              0.5555555555555556,
              "#d8576b"
             ],
             [
              0.6666666666666666,
              "#ed7953"
             ],
             [
              0.7777777777777778,
              "#fb9f3a"
             ],
             [
              0.8888888888888888,
              "#fdca26"
             ],
             [
              1,
              "#f0f921"
             ]
            ],
            "type": "heatmapgl"
           }
          ],
          "histogram": [
           {
            "marker": {
             "pattern": {
              "fillmode": "overlay",
              "size": 10,
              "solidity": 0.2
             }
            },
            "type": "histogram"
           }
          ],
          "histogram2d": [
           {
            "colorbar": {
             "outlinewidth": 0,
             "ticks": ""
            },
            "colorscale": [
             [
              0,
              "#0d0887"
             ],
             [
              0.1111111111111111,
              "#46039f"
             ],
             [
              0.2222222222222222,
              "#7201a8"
             ],
             [
              0.3333333333333333,
              "#9c179e"
             ],
             [
              0.4444444444444444,
              "#bd3786"
             ],
             [
              0.5555555555555556,
              "#d8576b"
             ],
             [
              0.6666666666666666,
              "#ed7953"
             ],
             [
              0.7777777777777778,
              "#fb9f3a"
             ],
             [
              0.8888888888888888,
              "#fdca26"
             ],
             [
              1,
              "#f0f921"
             ]
            ],
            "type": "histogram2d"
           }
          ],
          "histogram2dcontour": [
           {
            "colorbar": {
             "outlinewidth": 0,
             "ticks": ""
            },
            "colorscale": [
             [
              0,
              "#0d0887"
             ],
             [
              0.1111111111111111,
              "#46039f"
             ],
             [
              0.2222222222222222,
              "#7201a8"
             ],
             [
              0.3333333333333333,
              "#9c179e"
             ],
             [
              0.4444444444444444,
              "#bd3786"
             ],
             [
              0.5555555555555556,
              "#d8576b"
             ],
             [
              0.6666666666666666,
              "#ed7953"
             ],
             [
              0.7777777777777778,
              "#fb9f3a"
             ],
             [
              0.8888888888888888,
              "#fdca26"
             ],
             [
              1,
              "#f0f921"
             ]
            ],
            "type": "histogram2dcontour"
           }
          ],
          "mesh3d": [
           {
            "colorbar": {
             "outlinewidth": 0,
             "ticks": ""
            },
            "type": "mesh3d"
           }
          ],
          "parcoords": [
           {
            "line": {
             "colorbar": {
              "outlinewidth": 0,
              "ticks": ""
             }
            },
            "type": "parcoords"
           }
          ],
          "pie": [
           {
            "automargin": true,
            "type": "pie"
           }
          ],
          "scatter": [
           {
            "fillpattern": {
             "fillmode": "overlay",
             "size": 10,
             "solidity": 0.2
            },
            "type": "scatter"
           }
          ],
          "scatter3d": [
           {
            "line": {
             "colorbar": {
              "outlinewidth": 0,
              "ticks": ""
             }
            },
            "marker": {
             "colorbar": {
              "outlinewidth": 0,
              "ticks": ""
             }
            },
            "type": "scatter3d"
           }
          ],
          "scattercarpet": [
           {
            "marker": {
             "colorbar": {
              "outlinewidth": 0,
              "ticks": ""
             }
            },
            "type": "scattercarpet"
           }
          ],
          "scattergeo": [
           {
            "marker": {
             "colorbar": {
              "outlinewidth": 0,
              "ticks": ""
             }
            },
            "type": "scattergeo"
           }
          ],
          "scattergl": [
           {
            "marker": {
             "colorbar": {
              "outlinewidth": 0,
              "ticks": ""
             }
            },
            "type": "scattergl"
           }
          ],
          "scattermapbox": [
           {
            "marker": {
             "colorbar": {
              "outlinewidth": 0,
              "ticks": ""
             }
            },
            "type": "scattermapbox"
           }
          ],
          "scatterpolar": [
           {
            "marker": {
             "colorbar": {
              "outlinewidth": 0,
              "ticks": ""
             }
            },
            "type": "scatterpolar"
           }
          ],
          "scatterpolargl": [
           {
            "marker": {
             "colorbar": {
              "outlinewidth": 0,
              "ticks": ""
             }
            },
            "type": "scatterpolargl"
           }
          ],
          "scatterternary": [
           {
            "marker": {
             "colorbar": {
              "outlinewidth": 0,
              "ticks": ""
             }
            },
            "type": "scatterternary"
           }
          ],
          "surface": [
           {
            "colorbar": {
             "outlinewidth": 0,
             "ticks": ""
            },
            "colorscale": [
             [
              0,
              "#0d0887"
             ],
             [
              0.1111111111111111,
              "#46039f"
             ],
             [
              0.2222222222222222,
              "#7201a8"
             ],
             [
              0.3333333333333333,
              "#9c179e"
             ],
             [
              0.4444444444444444,
              "#bd3786"
             ],
             [
              0.5555555555555556,
              "#d8576b"
             ],
             [
              0.6666666666666666,
              "#ed7953"
             ],
             [
              0.7777777777777778,
              "#fb9f3a"
             ],
             [
              0.8888888888888888,
              "#fdca26"
             ],
             [
              1,
              "#f0f921"
             ]
            ],
            "type": "surface"
           }
          ],
          "table": [
           {
            "cells": {
             "fill": {
              "color": "#EBF0F8"
             },
             "line": {
              "color": "white"
             }
            },
            "header": {
             "fill": {
              "color": "#C8D4E3"
             },
             "line": {
              "color": "white"
             }
            },
            "type": "table"
           }
          ]
         },
         "layout": {
          "annotationdefaults": {
           "arrowcolor": "#2a3f5f",
           "arrowhead": 0,
           "arrowwidth": 1
          },
          "autotypenumbers": "strict",
          "coloraxis": {
           "colorbar": {
            "outlinewidth": 0,
            "ticks": ""
           }
          },
          "colorscale": {
           "diverging": [
            [
             0,
             "#8e0152"
            ],
            [
             0.1,
             "#c51b7d"
            ],
            [
             0.2,
             "#de77ae"
            ],
            [
             0.3,
             "#f1b6da"
            ],
            [
             0.4,
             "#fde0ef"
            ],
            [
             0.5,
             "#f7f7f7"
            ],
            [
             0.6,
             "#e6f5d0"
            ],
            [
             0.7,
             "#b8e186"
            ],
            [
             0.8,
             "#7fbc41"
            ],
            [
             0.9,
             "#4d9221"
            ],
            [
             1,
             "#276419"
            ]
           ],
           "sequential": [
            [
             0,
             "#0d0887"
            ],
            [
             0.1111111111111111,
             "#46039f"
            ],
            [
             0.2222222222222222,
             "#7201a8"
            ],
            [
             0.3333333333333333,
             "#9c179e"
            ],
            [
             0.4444444444444444,
             "#bd3786"
            ],
            [
             0.5555555555555556,
             "#d8576b"
            ],
            [
             0.6666666666666666,
             "#ed7953"
            ],
            [
             0.7777777777777778,
             "#fb9f3a"
            ],
            [
             0.8888888888888888,
             "#fdca26"
            ],
            [
             1,
             "#f0f921"
            ]
           ],
           "sequentialminus": [
            [
             0,
             "#0d0887"
            ],
            [
             0.1111111111111111,
             "#46039f"
            ],
            [
             0.2222222222222222,
             "#7201a8"
            ],
            [
             0.3333333333333333,
             "#9c179e"
            ],
            [
             0.4444444444444444,
             "#bd3786"
            ],
            [
             0.5555555555555556,
             "#d8576b"
            ],
            [
             0.6666666666666666,
             "#ed7953"
            ],
            [
             0.7777777777777778,
             "#fb9f3a"
            ],
            [
             0.8888888888888888,
             "#fdca26"
            ],
            [
             1,
             "#f0f921"
            ]
           ]
          },
          "colorway": [
           "#636efa",
           "#EF553B",
           "#00cc96",
           "#ab63fa",
           "#FFA15A",
           "#19d3f3",
           "#FF6692",
           "#B6E880",
           "#FF97FF",
           "#FECB52"
          ],
          "font": {
           "color": "#2a3f5f"
          },
          "geo": {
           "bgcolor": "white",
           "lakecolor": "white",
           "landcolor": "#E5ECF6",
           "showlakes": true,
           "showland": true,
           "subunitcolor": "white"
          },
          "hoverlabel": {
           "align": "left"
          },
          "hovermode": "closest",
          "mapbox": {
           "style": "light"
          },
          "paper_bgcolor": "white",
          "plot_bgcolor": "#E5ECF6",
          "polar": {
           "angularaxis": {
            "gridcolor": "white",
            "linecolor": "white",
            "ticks": ""
           },
           "bgcolor": "#E5ECF6",
           "radialaxis": {
            "gridcolor": "white",
            "linecolor": "white",
            "ticks": ""
           }
          },
          "scene": {
           "xaxis": {
            "backgroundcolor": "#E5ECF6",
            "gridcolor": "white",
            "gridwidth": 2,
            "linecolor": "white",
            "showbackground": true,
            "ticks": "",
            "zerolinecolor": "white"
           },
           "yaxis": {
            "backgroundcolor": "#E5ECF6",
            "gridcolor": "white",
            "gridwidth": 2,
            "linecolor": "white",
            "showbackground": true,
            "ticks": "",
            "zerolinecolor": "white"
           },
           "zaxis": {
            "backgroundcolor": "#E5ECF6",
            "gridcolor": "white",
            "gridwidth": 2,
            "linecolor": "white",
            "showbackground": true,
            "ticks": "",
            "zerolinecolor": "white"
           }
          },
          "shapedefaults": {
           "line": {
            "color": "#2a3f5f"
           }
          },
          "ternary": {
           "aaxis": {
            "gridcolor": "white",
            "linecolor": "white",
            "ticks": ""
           },
           "baxis": {
            "gridcolor": "white",
            "linecolor": "white",
            "ticks": ""
           },
           "bgcolor": "#E5ECF6",
           "caxis": {
            "gridcolor": "white",
            "linecolor": "white",
            "ticks": ""
           }
          },
          "title": {
           "x": 0.05
          },
          "xaxis": {
           "automargin": true,
           "gridcolor": "white",
           "linecolor": "white",
           "ticks": "",
           "title": {
            "standoff": 15
           },
           "zerolinecolor": "white",
           "zerolinewidth": 2
          },
          "yaxis": {
           "automargin": true,
           "gridcolor": "white",
           "linecolor": "white",
           "ticks": "",
           "title": {
            "standoff": 15
           },
           "zerolinecolor": "white",
           "zerolinewidth": 2
          }
         }
        },
        "xaxis": {
         "anchor": "y",
         "constrain": "domain",
         "domain": [
          0,
          1
         ],
         "scaleanchor": "y",
         "side": "top"
        },
        "yaxis": {
         "anchor": "x",
         "autorange": "reversed",
         "constrain": "domain",
         "domain": [
          0,
          1
         ]
        }
       }
      }
     },
     "metadata": {},
     "output_type": "display_data"
    }
   ],
   "source": [
    "# Compute the interaction matrix between SAE inputs for a given output SAE feature.\n",
    "q = tracer.q(3834, project=True)\n",
    "\n",
    "# Find the most relevant rows/columns by max interactions.\n",
    "idxs = q.flatten().abs().topk(50).indices\n",
    "i1, i2 = torch.unravel_index(idxs, q.shape)\n",
    "idxs = torch.cat([i1, i2]).unique()\n",
    "\n",
    "# Plot the most important sub-interactions for the output feature.\n",
    "labels = [f\"{i}\" for i in idxs.cpu()]\n",
    "fig = px.imshow(q[idxs.flip(0)][:, idxs].cpu(), color_continuous_midpoint=0, color_continuous_scale=\"RdBu\", x=labels, y=labels, )\n",
    "fig.update_xaxes(side=\"top\")"
   ]
  },
  {
   "cell_type": "markdown",
   "metadata": {},
   "source": [
    "### Future directions.\n",
    "While we believe these results are exciting and finally provide a way forward towards understanding MLPs, there is still a lot to explore. We're not at all convinced that the proposed methodology is the best way to understand feature interactions. One possible research avenue is (again) to consider shared structure between features. This can be done using variants of sparse coding or certain tensor decompositions."
   ]
  }
 ],
 "metadata": {
  "kernelspec": {
   "display_name": "Python 3",
   "language": "python",
   "name": "python3"
  },
  "language_info": {
   "codemirror_mode": {
    "name": "ipython",
    "version": 3
   },
   "file_extension": ".py",
   "mimetype": "text/x-python",
   "name": "python",
   "nbconvert_exporter": "python",
   "pygments_lexer": "ipython3",
   "version": "3.12.6"
  }
 },
 "nbformat": 4,
 "nbformat_minor": 2
}
